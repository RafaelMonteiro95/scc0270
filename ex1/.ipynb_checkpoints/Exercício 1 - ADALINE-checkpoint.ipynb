{
 "cells": [
  {
   "cell_type": "markdown",
   "metadata": {},
   "source": [
    "# Exercício 1: ADALINE\n",
    "A rede neural ADALINE é uma rede de um neurônio, como o perceptron. Este relatório apresenta uma implementação do ADALINE em \n",
    "Python para o reconhecimento de imagens com A ou A invertido."
   ]
  },
  {
   "cell_type": "markdown",
   "metadata": {},
   "source": [
    "## Entradas\n",
    "As entradas consistem em matrizes 5x5 preenchidas com -1 e 1, respectivamente. Cada entrada representa A ou A invertido (de cabeça para baixo). Os exemplos estão contidos na pasta A ou Ainv, para A ou A invertido.\n",
    "\n",
    "Os exemplos são armazenados em arrays do numpy de dimensão (25,1) correspondentes à matriz \"achatada\" "
   ]
  },
  {
   "cell_type": "code",
   "execution_count": 10,
   "metadata": {},
   "outputs": [],
   "source": [
    "# imports\n",
    "import numpy as np\n",
    "import matplotlib.pyplot as plt"
   ]
  },
  {
   "cell_type": "code",
   "execution_count": 11,
   "metadata": {},
   "outputs": [
    {
     "name": "stdout",
     "output_type": "stream",
     "text": [
      "[-1 -1  1 -1  1 -1  1 -1  1 -1 -1  1  1  1 -1  1 -1 -1 -1  1  1 -1 -1 -1\n",
      "  1]\n",
      "1\n"
     ]
    }
   ],
   "source": [
    "# Function for reading a file and creating a 5x5 array\n",
    "def readFile(filename):\n",
    "    with open(filename) as f:\n",
    "        return np.array([int(num) for num in f.read().split()])\n",
    "    \n",
    "pathA = 'Exemplos/A/'\n",
    "pathAinv = 'Exemplos/Ainv/'\n",
    "\n",
    "# X_train contains all training instances\n",
    "# Y_train contains all training labels\n",
    "X_train = []\n",
    "Y_train = []\n",
    "\n",
    "for i in range(5):\n",
    "    X_train.append(readFile(pathA + str(i+1) + '.txt'))\n",
    "    Y_train.append(1)\n",
    "    \n",
    "for i in range(5):\n",
    "    X_train.append(readFile(pathAinv + str(i+1) + '.txt'))\n",
    "    Y_train.append(-1)\n",
    "    \n",
    "print(X_train[1])\n",
    "print(Y_train[1])"
   ]
  },
  {
   "cell_type": "markdown",
   "metadata": {},
   "source": [
    "### Conjunto de treinamento:"
   ]
  },
  {
   "cell_type": "code",
   "execution_count": 12,
   "metadata": {},
   "outputs": [
    {
     "data": {
      "image/png": "[encoded data removed]",
      "text/plain": [
       "<Figure size 432x288 with 10 Axes>"
      ]
     },
     "metadata": {},
     "output_type": "display_data"
    }
   ],
   "source": [
    "for i in range(10):\n",
    "    \n",
    "    # creating plots\n",
    "    plt.subplot(2,5,i+1)\n",
    "    plt.title('Label: ' + str(Y_train[i]))\n",
    "    plt.imshow(X_train[i].reshape(5,5) ,cmap='gray')\n",
    "    \n",
    "plt.tight_layout()\n",
    "plt.show()"
   ]
  },
  {
   "cell_type": "markdown",
   "metadata": {},
   "source": [
    "### Implementação"
   ]
  },
  {
   "cell_type": "code",
   "execution_count": 61,
   "metadata": {},
   "outputs": [],
   "source": [
    "class Adaline:\n",
    "\n",
    "    # threshold is used on activation function\n",
    "    def Adaline(self, threshold):\n",
    "        self.weights = none\n",
    "        self.threshold = threshold\n",
    "        \n",
    "    def signal(self, net, threshold = 0.5):\n",
    "        return ( 1 if net > threshold else -1 )\n",
    "        \n",
    "    # X is the training dataset (an array with arrays), Y is the training dataset labels (an array with -1 or 1)\n",
    "    # this function trains the ADALINE\n",
    "    def train(self, X, Y, eta = 0.5, min_error=10e-3, max_iter=1000):\n",
    "        # Using X first instance to determine weights length \n",
    "        size = X[0].shape[0]\n",
    "        # initializing weights with length (size + 1) to accomodate theta\n",
    "        self.weights = np.random.rand(size + 1)\n",
    "        # initializing error\n",
    "        square_error = min_error * 2\n",
    "        \n",
    "        # trains while max_iter is not exceeded and error is above minimum\n",
    "        counter = 0\n",
    "        while counter < max_iter and square_error >= min_error:\n",
    "            \n",
    "            # for each instance in X with label Y:\n",
    "            for instance, label in zip(X,Y):\n",
    "                \n",
    "                # inserting theta in instance\n",
    "                xi = np.append(instance, [1])\n",
    "                \n",
    "                # calculating net function\n",
    "                net = np.sum(xi * self.weights)\n",
    "                \n",
    "                # calculating an estimated label\n",
    "                est = self.signal(net)\n",
    "                \n",
    "                # calculating error\n",
    "                error = label - est\n",
    "                square_error = square_error + (error ** 2)\n",
    "                \n",
    "                # calculating gradient\n",
    "                grad = -2 * error * xi\n",
    "                \n",
    "                # adjusting weights\n",
    "                self.weights = self.weights - eta * grad\n",
    "                \n",
    "            \n",
    "            # adjusting current error\n",
    "            square_error /= len(X)\n",
    "            counter += 1\n",
    "                \n",
    "                \n",
    "    \n",
    "    # predicts if target belongs to class 1 or -1\n",
    "    def predict(self, sample):\n",
    "        xi = np.append(sample, 1)\n",
    "        net = np.sum(xi * self.weights)\n",
    "        return self.signal(net)"
   ]
  },
  {
   "cell_type": "markdown",
   "metadata": {},
   "source": [
    "## Testando"
   ]
  },
  {
   "cell_type": "code",
   "execution_count": 66,
   "metadata": {},
   "outputs": [
    {
     "data": {
      "image/png": "[encoded data removed]",
      "text/plain": [
       "<Figure size 432x288 with 2 Axes>"
      ]
     },
     "metadata": {},
     "output_type": "display_data"
    }
   ],
   "source": [
    "# loading test dataset\n",
    "X_test = [readFile(pathA + '6.txt') , readFile(pathAinv + '6.txt')]\n",
    "Y_test = [1,-1]\n",
    "\n",
    "plt.subplot(121)\n",
    "plt.title('Label: 1')\n",
    "plt.imshow(X_test[0].reshape(5,5),cmap='gray')\n",
    "\n",
    "plt.subplot(122)\n",
    "plt.title('label: -1')\n",
    "plt.imshow(X_test[1].reshape(5,5),cmap='gray')\n",
    "\n",
    "plt.tight_layout()\n",
    "plt.show()"
   ]
  },
  {
   "cell_type": "markdown",
   "metadata": {},
   "source": [
    "## Teste e Treino"
   ]
  },
  {
   "cell_type": "code",
   "execution_count": 79,
   "metadata": {},
   "outputs": [],
   "source": [
    "# Training\n",
    "clf = Adaline()\n",
    "clf.train(X_train, Y_train)"
   ]
  },
  {
   "cell_type": "code",
   "execution_count": 78,
   "metadata": {},
   "outputs": [
    {
     "name": "stdout",
     "output_type": "stream",
     "text": [
      "Target 1, Predicted 1\n",
      "Target 1, Predicted 1\n",
      "Target 1, Predicted 1\n",
      "Target 1, Predicted 1\n",
      "Target 1, Predicted 1\n",
      "Target -1, Predicted -1\n",
      "Target -1, Predicted -1\n",
      "Target -1, Predicted -1\n",
      "Target -1, Predicted -1\n",
      "Target -1, Predicted -1\n"
     ]
    }
   ],
   "source": [
    "#Testing in training dataset\n",
    "\n",
    "for instance, label in zip(X_train, Y_train):\n",
    "    print(\"Target {0}, Predicted {1}\".format(label, clf.predict(instance)))"
   ]
  },
  {
   "cell_type": "code",
   "execution_count": 80,
   "metadata": {},
   "outputs": [
    {
     "name": "stdout",
     "output_type": "stream",
     "text": [
      "Target 1, Predicted 1\n",
      "Target -1, Predicted -1\n"
     ]
    }
   ],
   "source": [
    "#Testing in training dataset\n",
    "\n",
    "for instance, label in zip(X_test, Y_test):\n",
    "    print(\"Target {0}, Predicted {1}\".format(label, clf.predict(instance)))"
   ]
  },
  {
   "cell_type": "markdown",
   "metadata": {},
   "source": [
    "## Resultados\n",
    "\n",
    "A rede neural conseguiu acertar todos os casos. Mais casos de teste com tamanhos maiores seriam interessantes para validar o resultado."
   ]
  }
 ],
 "metadata": {
  "kernelspec": {
   "display_name": "Python 3",
   "language": "python",
   "name": "python3"
  },
  "language_info": {
   "codemirror_mode": {
    "name": "ipython",
    "version": 3
   },
   "file_extension": ".py",
   "mimetype": "text/x-python",
   "name": "python",
   "nbconvert_exporter": "python",
   "pygments_lexer": "ipython3",
   "version": "3.7.0"
  }
 },
 "nbformat": 4,
 "nbformat_minor": 2
}

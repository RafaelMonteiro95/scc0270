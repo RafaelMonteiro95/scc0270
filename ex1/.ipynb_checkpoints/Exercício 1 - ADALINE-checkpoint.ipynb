{
 "cells": [
  {
   "cell_type": "markdown",
   "metadata": {},
   "source": [
    "### Exercício 1: ADALINE\n",
    "A rede neural ADALINE é uma rede de um neurônio, como o perceptron. Este relatório apresenta uma implementação do ADALINE em \n",
    "Python para o reconhecimento de imagens com A ou A invertido."
   ]
  },
  {
   "cell_type": "markdown",
   "metadata": {},
   "source": [
    "## Entradas\n",
    "As entradas consistem em matrizes 5x5 preenchidas com -1 e 1, respectivamente. Cada entrada representa A ou A invertido (de cabeça para baixo). Os exemplos estão contidos na pasta A ou Ainv, para A ou A invertido."
   ]
  },
  {
   "cell_type": "code",
   "execution_count": 1,
   "metadata": {},
   "outputs": [],
   "source": [
    "# imports\n",
    "import numpy as np\n",
    "import matplotlib.pyplot as plt"
   ]
  },
  {
   "cell_type": "code",
   "execution_count": 39,
   "metadata": {},
   "outputs": [
    {
     "name": "stdout",
     "output_type": "stream",
     "text": [
      "[[-1 -1  1 -1  1]\n",
      " [-1  1 -1  1 -1]\n",
      " [-1  1  1  1 -1]\n",
      " [ 1 -1 -1 -1  1]\n",
      " [ 1 -1 -1 -1  1]]\n",
      "1\n"
     ]
    }
   ],
   "source": [
    "# Function for reading a file and creating a 5x5 array\n",
    "def readFile(filename):\n",
    "    with open(filename) as f:\n",
    "        return np.array([int(num) for num in f.read().split()])\n",
    "    \n",
    "pathA = 'Exemplos/A/'\n",
    "pathAinv = 'Exemplos/Ainv/'\n",
    "\n",
    "# X_train contains all training instances\n",
    "# Y_train contains all training labels\n",
    "X_train = []\n",
    "Y_train = []\n",
    "\n",
    "for i in range(5):\n",
    "    X_train.append(readFile(pathA + str(i+1) + '.txt'))\n",
    "    Y_train.append(1)\n",
    "    \n",
    "for i in range(5):\n",
    "    X_train.append(readFile(pathAinv + str(i+1) + '.txt'))\n",
    "    Y_train.append(-1)\n",
    "    \n",
    "print(X_train[1])\n",
    "print(Y_train[1])"
   ]
  },
  {
   "cell_type": "markdown",
   "metadata": {},
   "source": [
    "### Conjunto de treinamento:"
   ]
  },
  {
   "cell_type": "code",
   "execution_count": 45,
   "metadata": {},
   "outputs": [
    {
     "data": {
      "image/png": "[encoded data removed]",
      "text/plain": [
       "<Figure size 432x288 with 10 Axes>"
      ]
     },
     "metadata": {},
     "output_type": "display_data"
    }
   ],
   "source": [
    "for i in range(10):\n",
    "    \n",
    "    # creating plots\n",
    "    plt.subplot(2,5,i+1)\n",
    "    plt.title('Label: ' + str(Y_train[i]))\n",
    "    plt.imshow(X_train[i] ,cmap='gray')\n",
    "    \n",
    "plt.tight_layout()\n",
    "plt.show()"
   ]
  }
 ],
 "metadata": {
  "kernelspec": {
   "display_name": "Python 3",
   "language": "python",
   "name": "python3"
  },
  "language_info": {
   "codemirror_mode": {
    "name": "ipython",
    "version": 3
   },
   "file_extension": ".py",
   "mimetype": "text/x-python",
   "name": "python",
   "nbconvert_exporter": "python",
   "pygments_lexer": "ipython3",
   "version": "3.7.0"
  }
 },
 "nbformat": 4,
 "nbformat_minor": 2
}
